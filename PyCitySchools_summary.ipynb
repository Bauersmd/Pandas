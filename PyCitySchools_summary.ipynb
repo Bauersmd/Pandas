{
 "cells": [
  {
   "cell_type": "code",
   "execution_count": null,
   "id": "57073eef-d65d-4666-b16e-9291ae394ad0",
   "metadata": {},
   "outputs": [],
   "source": [
    "Looking and reviewing the PyCitySchool data and resource data sets I can conclude:\n",
    "- Their are more Charter schools than District Schools. 7 Charter Schools vs. 8 District Schools\n",
    "- This also shows in the data that was given Charter School have a much higher overall passing percentage than District Schools.\n",
    "- With that being said it is also to note that Charter Schools are succeeding at a higher percentage than District Schools even though Charter schools have less students.\n",
    "\n",
    "\n",
    "\n",
    "\n"
   ]
  }
 ],
 "metadata": {
  "kernelspec": {
   "display_name": "Python 3 (ipykernel)",
   "language": "python",
   "name": "python3"
  },
  "language_info": {
   "codemirror_mode": {
    "name": "ipython",
    "version": 3
   },
   "file_extension": ".py",
   "mimetype": "text/x-python",
   "name": "python",
   "nbconvert_exporter": "python",
   "pygments_lexer": "ipython3",
   "version": "3.12.4"
  }
 },
 "nbformat": 4,
 "nbformat_minor": 5
}
