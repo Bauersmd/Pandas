


# Dependencies and Setup
import pandas as pd
from pathlib import Path

# File to Load (Remember to Change These)
school_data_to_load = Path("Resources/schools_complete.csv")
student_data_to_load = Path("Resources/students_complete.csv")

# Read School and Student Data File and store into Pandas DataFrames
school_data = pd.read_csv(school_data_to_load)
student_data = pd.read_csv(student_data_to_load)

# Combine the data into a single dataset.
school_data_df = pd.merge(student_data, school_data, how="left", on="school_name")
school_data_df.head()






# Calculate the total number of unique schools
school_count = school_data_df["school_name"].unique().size
print(f'Number of Schools:')
school_count


# Calculate the total number of students
total_students_count = student_data["Student ID"].unique().size
print('Total Number of Students:')
total_students_count


# Calculate the total budget
total_budgets_combined = sum(school_data_df["budget"].unique())
print(f'Total Budgets:')
total_budgets_combined


# Calculate the average (mean) math score
average_math_score = school_data_df["math_score"].mean()
print(f'Average Student Math Score:')
average_math_score


# Calculate the average (mean) reading score
average_reading_score = school_data_df["reading_score"].mean()
print(f'Average Student Reading Score:')
average_reading_score


# Calculate the percentage of students who passed math (math scores greather than or equal to 70)
passing_math_grade = 70
number_of_passing = 0
math_scores = school_data_df["math_score"]
for i in math_scores:
    if i >= passing_math_grade:
        number_of_passing = number_of_passing + 1
passing_math_percent = (number_of_passing/len(math_scores)*100)
print(f'Passing Math Percentage:')
passing_math_percent


# Calculate the percentage of students who passed reading (hint: look at how the math percentage was calculated)
passing_reading_grade = 70
number_of_passing = 0
reading_scores = school_data_df["reading_score"]
for i in reading_scores:
    if i >= passing_reading_grade:
        number_of_passing = number_of_passing + 1
passing_reading_percent = (number_of_passing/len(reading_scores)*100)
print(f'Passing Reading Percentage:')
passing_reading_percent


# Use the following to calculate the percentage of students that passed math and reading
total_passing_count = school_data_df[(school_data_df["math_score"] >= 70) & (school_data_df["reading_score"] >= 70)].count()["student_name"]
total_passing_percent = (total_passing_count/(len(school_data_df)))*100
print(f'Passing Math and Reading Percentage:')
total_passing_percent


# Create a high-level snapshot of the district's key metrics in a DataFrame
district_summary = pd.DataFrame({
    "Total of Unique Schools":[school_count], 
    "Total Budget":[total_budgets_combined], 
    "Total of Students":[total_students_count], 
    "Average Student Math Score":[average_math_score],
    "% Passing Math Percentage":[passing_math_percent],
    "Average Student Reading Score":[average_reading_score],
    "% Passing Reading Percentage":[passing_reading_percent],
    "% Overall Math and Reading Percentage":[total_passing_percent]
})

# Formatting
district_summary["Total of Students"] = district_summary["Total of Students"].map("{:,}".format)
district_summary["Total Budget"] = district_summary["Total Budget"].map("${:,.2f}".format)

# Display the DataFrame
district_summary






school_data_df.columns


# Use the code provided to select the type per school from school_data
school_types = school_data.set_index(["school_name"])["type"]
school_types


# Calculate the total student count per school from school_data
per_school_counts = school_data.set_index(["school_name"])["size"]
per_school_counts
school_counts_combined = school_data_df["school_name"].value_counts()
school_counts_combined


# Calculate the total school budget and per capita spending per school from school_data
per_school_budget = school_data.set_index(["school_name"])["budget"]
per_school_budget



#per_school_capita =
per_student_capita = per_school_budget/per_school_counts
per_student_capita


# Calculate the average test scores per school from school_data_complete
per_school_math_average = student_data.groupby(["school_name"])["math_score"].mean()
per_school_math_average


per_school_reading_average = student_data.groupby(["school_name"])["reading_score"].mean()
per_school_reading_average


# Calculate the number of students per school with math scores of 70 or higher from school_data_complete
students_passing_math_for_each_school = school_data_df.loc[school_data_df["math_score"]>=70]
students_passing_math_for_each_school



# Calculate the number of students per school with reading scores of 70 or higher from school_data_complete
students_passing_reading_for_each_school =  school_data_df.loc[school_data_df["reading_score"]>=70]
students_passing_reading_for_each_school



# Use the provided code to calculate the number of students per school that passed both math and reading with scores of 70 or higher
students_passing_both_math_and_reading = school_data_df.loc[(school_data_df["reading_score"] >= 70) & (school_data_df["math_score"] >= 70)]
school_students_passing_both_math_and_reading = students_passing_both_math_and_reading.groupby(["school_name"]).count()["student_name"]
passing_both_math_and_reading_in_school = (school_students_passing_both_math_and_reading/per_school_counts)*100
passing_both_math_and_reading_in_school



# Number of students per school passing math
per_school_passing_math = students_passing_math_for_each_school.groupby(["school_name"]).count()["student_name"]
per_school_passing_math


# Use the provided code to calculate the passing rates
per_school_passing_math = students_passing_math_for_each_school.groupby(["school_name"]).count()["student_name"]
per_school_passing_math_percentage = (per_school_passing_math/per_school_counts)*100
#per_school_passing_reading = school_students_passing_reading / per_school_counts * 100
#overall_passing_rate = school_students_passing_math_and_reading / per_school_counts * 100
per_school_passing_math_percentage


#per_school_passing_reading = school_students_passing_reading / per_school_counts * 100
per_school_passing_reading_percentage = (students_passing_reading_for_each_school.groupby(["school_name"]).count()["student_name"]/per_school_counts) * 100
per_school_passing_reading_percentage


# Create a DataFrame called `per_school_summary` with columns for the calculations above.
per_school_summary = pd.DataFrame({
    "School Type": school_types,
    "Total Students": per_school_counts,
    "Total School Budgets": per_school_budget,
    "Per Student Budgets": per_student_capita,
    "Average Math Score": per_school_math_average,
    "Average Reading Score": per_school_reading_average,
    "Math Passing Percentage": per_school_passing_math_percentage,
    "Reading Passing Percentage": per_school_passing_reading_percentage,
    "Overall Passing Percentage": passing_both_math_and_reading_in_school
})

# Formatting
#per_school_summary["Total School Budget"] = per_school_summary["Total School Budget"].map("${:,.2f}".format)
#per_school_summary["Per Student Budget"] = per_school_summary["Per Student Budget"].map("${:,.2f}".format)

# Display the DataFrame
per_school_summary






# Sort the schools by `% Overall Passing` in descending order and display the top 5 rows.
top_schools = per_school_summary.sort_values("Overall Passing Percentage", ascending = False)
top_schools.head(5)






# Sort the schools by `% Overall Passing` in ascending order and display the top 5 rows.
bottom_schools = per_school_summary.sort_values("Overall Passing Percentage", ascending = True)
bottom_schools.head(5)






# Use the code provided to separate the data by grade
ninth_graders = school_data_df[(school_data_df["grade"] == "9th")]
tenth_graders = school_data_df[(school_data_df["grade"] == "10th")]
eleventh_graders = school_data_df[(school_data_df["grade"] == "11th")]
twelfth_graders = school_data_df[(school_data_df["grade"] == "12th")]

# Group by `school_name` and take the mean of the `math_score` column for each.
ninth_grade_stu_math_scores = ninth_graders.groupby(["school_name"])["math_score"].mean()
tenth_grade_stu_math_scores = tenth_graders.groupby(["school_name"])["math_score"].mean()
eleventh_grade_stu_math_scores = eleventh_graders.groupby(["school_name"])["math_score"].mean()
twelfth_grade_stu_math_scores = twelfth_graders.groupby(["school_name"])["math_score"].mean()

# Combine each of the scores above into single DataFrame called `math_scores_by_grade`
math_scores_by_grade = pd.DataFrame({
        "9th": ninth_grade_stu_math_scores,
        "10th": tenth_grade_stu_math_scores,
        "11th": eleventh_grade_stu_math_scores,
        "12th": twelfth_grade_stu_math_scores})

# Minor data wrangling
math_scores_by_grade.index.name = None

# Display the DataFrame
math_scores_by_grade






# Use the code provided to separate the data by grade
ninth_graders = school_data_df[(school_data_df["grade"] == "9th")]
tenth_graders = school_data_df[(school_data_df["grade"] == "10th")]
eleventh_graders = school_data_df[(school_data_df["grade"] == "11th")]
twelfth_graders = school_data_df[(school_data_df["grade"] == "12th")]

# Group by `school_name` and take the mean of the the `reading_score` column for each.
ninth_grade_reading_scores = ninth_graders.groupby(["school_name"])["reading_score"].mean()
tenth_grade_reading_scores = tenth_graders.groupby(["school_name"])["reading_score"].mean()
eleventh_grade_reading_scores = eleventh_graders.groupby(["school_name"])["reading_score"].mean()
twelfth_grade_reading_scores = twelfth_graders.groupby(["school_name"])["reading_score"].mean()

# Combine each of the scores above into single DataFrame called `reading_scores_by_grade`
reading_scores_by_grade = pd.DataFrame({
        "9th": ninth_grade_reading_scores,
        "10th": tenth_grade_reading_scores,
        "11th": eleventh_grade_reading_scores,
        "12th": twelfth_grade_reading_scores})

# Minor data wrangling
reading_scores_by_grade = reading_scores_by_grade[["9th", "10th", "11th", "12th"]]
reading_scores_by_grade.index.name = None

# Display the DataFrame
reading_scores_by_grade






# Establish the bins
spending_bins = [0, 585, 630, 645, 680]
labels = ["<$585", "$585-630", "$630-645", "$645-680"]



# Create a copy of the school summary for later aggregations
school_spending_df = per_school_summary.copy()



# Use `pd.cut` on the per_school_capita Series from earlier to categorize per student spending based on the bins.
school_spending_df["Spending Ranges (Per Student)"] = pd.cut(per_student_capita, spending_bins, labels=labels, right = False)

# Convert Spending Ranges (Per Student) to a string
school_spending_df["Spending Ranges (Per Student)"] = school_spending_df["Spending Ranges (Per Student)"].astype(str)
school_spending_df



#  Calculate averages for the desired columns.
spending_math_scores = school_spending_df.groupby(["Spending Ranges (Per Student)"])["Average Math Score"].mean()
spending_reading_scores = school_spending_df.groupby(["Spending Ranges (Per Student)"])["Average Reading Score"].mean()
spending_passing_math = school_spending_df.groupby(["Spending Ranges (Per Student)"])["Math Passing Percentage"].mean()
spending_passing_reading = school_spending_df.groupby(["Spending Ranges (Per Student)"])["Reading Passing Percentage"].mean()
overall_passing_spending = school_spending_df.groupby(["Spending Ranges (Per Student)"])["Overall Passing Percentage"].mean()



# Assemble into DataFrame
spending_summary = pd.DataFrame(
    {
        "Average Math Score" : spending_math_scores,
        "Average Reading Score" : spending_reading_scores,
        "Math Passing Percentage" : spending_passing_math,
        "Reading Passing Percentage" : spending_passing_reading,
        "Overall Passing Percentage" : overall_passing_spending
    }
)

# Display results
spending_summary






# Establish the bins.
size_bins = [0, 1000, 2000, 5000]
labels = ["Small (<1000)", "Medium (1000-2000)", "Large (2000-5000)"]



# Create a copy of the school summary for later aggregations
school_size_df = per_school_summary.copy()


# Use `pd.cut` on the per_school_counts Series from earlier to categorize school size based on the bins.
school_size_df["School Size"] = pd.cut( per_school_counts, size_bins, labels=labels, right = False)

# Convert School Size to a string
school_size_df["School Size"] = school_size_df["School Size"].astype(str)
school_size_df



# Calculate averages for the desired columns.
size_math_scores = school_size_df.groupby(["School Size"])["Average Math Score"].mean()
size_reading_scores = school_size_df.groupby(["School Size"])["Average Reading Score"].mean()
size_passing_math = school_size_df.groupby(["School Size"])["Math Passing Percentage"].mean()
size_passing_reading = school_size_df.groupby(["School Size"])["Reading Passing Percentage"].mean()
size_overall_passing = school_size_df.groupby(["School Size"])["Overall Passing Percentage"].mean()



# Create a DataFrame called `size_summary` that breaks down school performance based on school size (small, medium, or large).
# Use the scores above to create a new DataFrame called `size_summary`
size_summary = pd.DataFrame({
    "Average Math Score":size_math_scores,
    "Average Reading Score":size_reading_scores,
    "Math Passing Percentage":size_passing_math,
    "Reading Passing Percentage":size_passing_reading,
    "Overall Passing Percentage":size_overall_passing})

# Display results
size_summary






# Group the per_school_summary DataFrame by "School Type" and average the results.
average_math_score_by_type = per_school_summary.groupby(["School Type"])["Average Math Score"].mean()
average_reading_score_by_type = per_school_summary.groupby(["School Type"])["Average Reading Score"].mean()
average_percent_passing_math_by_type = per_school_summary.groupby(["School Type"])["Math Passing Percentage"].mean()
average_percent_passing_reading_by_type = per_school_summary.groupby(["School Type"])["Reading Passing Percentage"].mean()
average_percent_overall_passing_by_type = per_school_summary.groupby(["School Type"])["Overall Passing Percentage"].mean()



# Assemble the new data by type into a DataFrame called `type_summary`
type_summary = pd.DataFrame({
    "Average Math Score":average_math_score_by_type,
    "Average Reading Score":average_reading_score_by_type,
    "Math Passing Percentage":average_percent_passing_math_by_type,
    "Reading Passing Percentage":average_percent_passing_reading_by_type,
    "Overall Passing Percentage":average_percent_overall_passing_by_type})

# Display results
type_summary




