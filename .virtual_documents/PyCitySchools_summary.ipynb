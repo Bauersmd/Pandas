Looking and reviewing the PyCitySchool data and resource data sets I can conclude:
- Their are more Charter schools than District Schools. 7 Charter Schools vs. 8 District Schools
- This also shows in the data that was given Charter School have a much higher overall passing percentage than District Schools.
- With that being said it is also to note that Charter Schools are succeeding at a higher percentage than District Schools even though Charter schools have less students.





